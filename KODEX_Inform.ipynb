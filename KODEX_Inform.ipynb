{
 "cells": [
  {
   "cell_type": "code",
   "execution_count": 3,
   "id": "7a08f479-bff2-47e6-98fb-0c2a195f2a2a",
   "metadata": {
    "tags": []
   },
   "outputs": [],
   "source": [
    "from selenium import webdriver\n",
    "from selenium.webdriver.common.by import By\n",
    "from selenium.webdriver.common.keys import Keys\n",
    "\n",
    "from operator import methodcaller\n",
    "import pandas as pd"
   ]
  },
  {
   "cell_type": "code",
   "execution_count": 24,
   "id": "513389f3-4ffd-4b3d-954e-022c9606f2cb",
   "metadata": {
    "tags": []
   },
   "outputs": [],
   "source": [
    "def KODEX_VAR(start_date, end_date):\n",
    "    driver = webdriver.Chrome()\n",
    "    driver.implicitly_wait(5)\n",
    "    driver.get(\"https://navercomp.wisereport.co.kr/v2/ETF/index.aspx?cmp_cd=069500\")\n",
    "\n",
    "    element = driver.find_element(By.CSS_SELECTOR,\"#txtStart\")\n",
    "    element.send_keys(Keys.CONTROL + \"A\")\n",
    "    element.send_keys(start_date)\n",
    "\n",
    "    element = driver.find_element(By.CSS_SELECTOR,\"#txtEnd\")\n",
    "    element.send_keys(Keys.CONTROL + \"A\")\n",
    "    element.send_keys(end_date)\n",
    "    \n",
    "    col = driver.find_element(By.CSS_SELECTOR,\"#NAV_grid > thead > tr\").text\n",
    "    col = col.split(\"\\n\")\n",
    "\n",
    "    table = driver.find_element(By.CSS_SELECTOR,\"#NAV_grid_body\").text\n",
    "    table = pd.DataFrame(map(methodcaller(\"split\", \" \"), table.split(\"\\n\")))\n",
    "    table.columns = col\n",
    "    \n",
    "    return table"
   ]
  },
  {
   "cell_type": "code",
   "execution_count": 25,
   "id": "681e7a2b-883b-4b09-95eb-010e79e7fbec",
   "metadata": {
    "tags": []
   },
   "outputs": [],
   "source": [
    "start_date = \"2017-07-01\"\n",
    "end_date = \"2023-12-31\"\n",
    "table = KODEX_VAR(start_date, end_date)"
   ]
  },
  {
   "cell_type": "code",
   "execution_count": 28,
   "id": "3755f709-5990-4ea5-a3b0-c1dc98417fc1",
   "metadata": {
    "tags": []
   },
   "outputs": [],
   "source": [
    "table.to_csv(\"Data/NAV_ETF_DR.csv\", index = False)"
   ]
  },
  {
   "cell_type": "code",
   "execution_count": 4,
   "id": "f63fdc0c-0c27-41ca-9886-2053c646b910",
   "metadata": {
    "tags": []
   },
   "outputs": [],
   "source": [
    "def KODEX_CU():\n",
    "    driver = webdriver.Chrome()\n",
    "    driver.implicitly_wait(5)\n",
    "    driver.get(\"https://navercomp.wisereport.co.kr/v2/ETF/index.aspx?cmp_cd=069500\")\n",
    "    col = driver.find_element(By.CSS_SELECTOR,\"#CU_grid_body\").text\n",
    "\n",
    "    col = driver.find_element(By.CSS_SELECTOR,\"#CU_grid > thead > tr\").text\n",
    "    col = col.split(\"\\n\")\n",
    "\n",
    "    table = driver.find_element(By.CSS_SELECTOR,\"#CU_grid_body\").text\n",
    "    table = table.split(\"\\n\")\n",
    "\n",
    "    table_name = [table[i] for i in range(0, len(table), 2)]\n",
    "    table_value = [table[i] for i in range(1, len(table), 2)]\n",
    "\n",
    "    table_name = pd.DataFrame(table_name, columns = [col[0]])\n",
    "    table_value = pd.DataFrame(map(methodcaller(\"split\", \" \"), table_value), columns = col[1:])\n",
    "\n",
    "    table = pd.concat((table_name, table_value), axis = 1)\n",
    "    \n",
    "    return table\n"
   ]
  },
  {
   "cell_type": "code",
   "execution_count": 7,
   "id": "4bbb2de0-f706-4fa5-ba19-ed974d17c76b",
   "metadata": {
    "tags": []
   },
   "outputs": [],
   "source": [
    "CU = KODEX_CU()"
   ]
  },
  {
   "cell_type": "code",
   "execution_count": 9,
   "id": "c63174af-ab88-4d0d-9f10-7221e22f6d7a",
   "metadata": {
    "tags": []
   },
   "outputs": [],
   "source": [
    "CU.to_csv(\"Data/KODEX_CU.csv\", index = False)"
   ]
  }
 ],
 "metadata": {
  "kernelspec": {
   "display_name": "Python 3 (ipykernel)",
   "language": "python",
   "name": "python3"
  },
  "language_info": {
   "codemirror_mode": {
    "name": "ipython",
    "version": 3
   },
   "file_extension": ".py",
   "mimetype": "text/x-python",
   "name": "python",
   "nbconvert_exporter": "python",
   "pygments_lexer": "ipython3",
   "version": "3.11.5"
  }
 },
 "nbformat": 4,
 "nbformat_minor": 5
}
