{
 "cells": [
  {
   "cell_type": "code",
   "execution_count": null,
   "id": "7c831cb7-110f-446a-9802-606f0aa18bd3",
   "metadata": {},
   "outputs": [],
   "source": [
    "# 코덱스200 -> 구글 API를 이용하여 관련 뉴스 수집 및 NAVER 종목 토론실 수집\n",
    "# 코덱스 200 관련 200개 기업 뉴스 수집 및 NAVER 종목 토론실 수집"
   ]
  },
  {
   "cell_type": "code",
   "execution_count": 1,
   "id": "3f8e2149-57ba-4193-946d-92821542a49b",
   "metadata": {},
   "outputs": [],
   "source": [
    "# 코덱스 관련 뉴스(빅카인즈)"
   ]
  },
  {
   "cell_type": "code",
   "execution_count": 2,
   "id": "9d7b46f6-2895-4290-a207-14dcc3bec092",
   "metadata": {
    "tags": []
   },
   "outputs": [],
   "source": [
    "from selenium import webdriver\n",
    "from selenium.webdriver.common.by import By\n",
    "from selenium.webdriver.common.keys import Keys\n",
    "from selenium.webdriver.support.ui import WebDriverWait\n",
    "from selenium.webdriver.support import expected_conditions as EC\n",
    "\n",
    "from datetime import datetime\n",
    "from dateutil.relativedelta import relativedelta\n",
    "import pandas as pd"
   ]
  },
  {
   "cell_type": "code",
   "execution_count": 138,
   "id": "bbbb3404-402f-4468-81d6-85c156e8fa1c",
   "metadata": {
    "tags": []
   },
   "outputs": [],
   "source": [
    "class Browser():\n",
    "    def __init__(self, url, search_word):\n",
    "        self.url = url\n",
    "        self.search_word = search_word\n",
    "        \n",
    "        # 접속\n",
    "        driver = webdriver.Chrome()\n",
    "\n",
    "        driver.implicitly_wait(5)\n",
    "        driver.get(url)\n",
    "\n",
    "        # 로그인\n",
    "        driver.find_element(By.CSS_SELECTOR, '#header > div.hd-top > div > div.login-area > button.btn-login.login-modal-btn.login-area-before').click()\n",
    "        element = driver.find_element(By.CSS_SELECTOR, '#login-user-id')\n",
    "        element.send_keys(\"아이디\")\n",
    "        element = driver.find_element(By.CSS_SELECTOR, '#login-user-password')\n",
    "        element.send_keys(\"비밀번호\")\n",
    "        driver.find_element(By.CSS_SELECTOR, '#login-btn').click()\n",
    "\n",
    "        # 검색어 입력\n",
    "        element = driver.find_element(By.CSS_SELECTOR,\"#total-search-key\")\n",
    "        element.send_keys(search_word)\n",
    "        element.send_keys(\"\\n\")\n",
    "        \n",
    "        self.driver = driver"
   ]
  },
  {
   "cell_type": "code",
   "execution_count": 148,
   "id": "bda6d1be-a2d7-4984-96c9-6e6ebc9cf9a4",
   "metadata": {
    "tags": []
   },
   "outputs": [],
   "source": [
    "def Split_and_Total(self, start_date, end_date, date_type, date_unit):\n",
    "    # date 단위에 따라 다운로드 할 날짜 분리하기\n",
    "    if date_type == \"Year\":\n",
    "        first_month_s = datetime(year=int(start_date[0:4]), month = 1, day = 1).date()\n",
    "        first_month_e = first_month_s + relativedelta(years = date_unit) - relativedelta(days = 1)\n",
    "        last_month_s = datetime(year=int(end_date[0:4]), month = 1, day = 1).date()\n",
    "        last_month_e = last_month_s + relativedelta(years = date_unit) - relativedelta(days = 1)\n",
    "\n",
    "        time_df = pd.DataFrame({\"start\" : pd.date_range(start=first_month_s, end=last_month_s, freq = str(date_unit) + \"YS\"),\n",
    "                                \"end\" : pd.date_range(start=first_month_e, end=last_month_e, freq = str(date_unit) + \"Y\")})\n",
    "    elif date_type == \"Month\":\n",
    "        first_month_s = datetime(year=int(start_date[0:4]), month = int(start_date[5:7]), day = 1).date()\n",
    "        first_month_e = first_month_s + relativedelta(months = date_unit) - relativedelta(days = 1)\n",
    "        last_month_s = datetime(year=int(end_date[0:4]), month = int(end_date[5:7]), day = 1).date()\n",
    "        last_month_e = last_month_s + relativedelta(months = date_unit) - relativedelta(days = 1)\n",
    "\n",
    "        time_df = pd.DataFrame({\"start\" : pd.date_range(start=first_month_s, end=last_month_s, freq = str(date_unit) + \"MS\"),\n",
    "                                \"end\" : pd.date_range(start=first_month_e, end=last_month_e, freq = str(date_unit) + \"M\")})\n",
    "        \n",
    "    time_df.start.iloc[0] = start_date\n",
    "    time_df.end.iloc[-1] = end_date\n",
    "    \n",
    "    over_df = time_df.apply(lambda date: Download(self, date.start, date.end),axis=1)\n",
    "    return over_df\n",
    "\n",
    "def Download(self, start, end):    \n",
    "    driver = self.driver\n",
    "    \n",
    "    # 날짜 검색\n",
    "    driver.find_element(By.CSS_SELECTOR, '#collapse-step-1').click()\n",
    "    driver.find_element(By.CSS_SELECTOR, '#collapse-step-1-body > div.srch-detail.v2 > div > div.tab-btn-wp1 > div.tab-btn-inner.tab1 > a').click()\n",
    "    \n",
    "    # 시작 날짜\n",
    "    element = driver.find_element(By.CSS_SELECTOR, '#search-begin-date')\n",
    "    element.send_keys(Keys.CONTROL + \"A\");\n",
    "    element.send_keys(start.strftime('%Y-%m-%d'))\n",
    "    \n",
    "    # 마지막 날짜\n",
    "    element = driver.find_element(By.CSS_SELECTOR, '#search-end-date')\n",
    "    element.send_keys(Keys.CONTROL + \"A\");\n",
    "    element.send_keys(end.strftime('%Y-%m-%d'))\n",
    "\n",
    "    # 경제, IT_과학 부분만 수집\n",
    "    driver.find_element(By.CSS_SELECTOR, '#collapse-step-1-body > div.srch-detail.v2 > div > div.tab-btn-wp2 > div.tab-btn-inner.tab3 > a').click()\n",
    "    driver.find_element(By.CSS_SELECTOR, '#srch-tab3 > ul > li:nth-child(2) > div > span:nth-child(3) > label > span').click()\n",
    "    driver.find_element(By.CSS_SELECTOR, '#srch-tab3 > ul > li:nth-child(8) > div > span:nth-child(3) > label > span').click()\n",
    "\n",
    "    # 적용하기 버튼\n",
    "    driver.find_element(By.CSS_SELECTOR, '#search-foot-div > div.foot-btn > button.btn.btn-search.news-search-btn.news-report-search-btn').click()\n",
    "    \n",
    "    # 뉴스 건수 추출\n",
    "    time.sleep(3)\n",
    "    n = driver.find_element(By.CSS_SELECTOR, '#news-results-tab > div.data-result-hd.pc-only.paging-v2-wrp > h3 > span.total-news-cnt').text\n",
    "    print(\"------------------------------------ [ {} ~ {} ] : {}개 ----------------------------------\".format(start.strftime('%Y-%m-%d'), end.strftime('%Y-%m-%d'), n))\n",
    "    \n",
    "    # 2만개가 넘는 경우 데이터가 잘려서 다운로드 되므로 이 상황을 방지\n",
    "    over = []\n",
    "    if int(n) > 20000:\n",
    "        over_lst.append([start, end])\n",
    "    else:\n",
    "        # 엑셀 다운로드\n",
    "        driver.find_element(By.CSS_SELECTOR, '#collapse-step-3').click()\n",
    "        driver.find_element(By.CSS_SELECTOR, '#analytics-data-download > div.btm-btn-wrp > button').click()\n",
    "    \n",
    "    time.sleep(2)\n",
    "    return over_lst\n",
    "\n",
    "Browser.Split_and_Total = Split_and_Total\n",
    "Browser.Download = Download"
   ]
  },
  {
   "cell_type": "code",
   "execution_count": 149,
   "id": "14ed606b-f63a-4dcf-bb86-88c9e6ef69e4",
   "metadata": {
    "tags": []
   },
   "outputs": [
    {
     "name": "stdout",
     "output_type": "stream",
     "text": [
      "------------------------------------ [ 2022-01-01 ~ 2022-12-31 ] : 192개 ----------------------------------\n",
      "------------------------------------ [ 2023-01-01 ~ 2023-12-29 ] : 269개 ----------------------------------\n"
     ]
    }
   ],
   "source": [
    "url = \"https://www.bigkinds.or.kr/\"\n",
    "search_word = \"코덱스\"\n",
    "browser = Browser(url = url, \n",
    "                  search_word = search_word)\n",
    "over = browser.Split_and_Total(start_date = \"2022-01-01\", \n",
    "                               end_date = \"2023-12-29\", \n",
    "                               date_type = \"Year\", \n",
    "                               date_unit = 1)\n"
   ]
  }
 ],
 "metadata": {
  "kernelspec": {
   "display_name": "Python 3 (ipykernel)",
   "language": "python",
   "name": "python3"
  },
  "language_info": {
   "codemirror_mode": {
    "name": "ipython",
    "version": 3
   },
   "file_extension": ".py",
   "mimetype": "text/x-python",
   "name": "python",
   "nbconvert_exporter": "python",
   "pygments_lexer": "ipython3",
   "version": "3.11.5"
  }
 },
 "nbformat": 4,
 "nbformat_minor": 5
}
